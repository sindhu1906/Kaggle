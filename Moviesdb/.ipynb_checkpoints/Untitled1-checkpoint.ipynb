{
 "cells": [
  {
   "cell_type": "code",
   "execution_count": null,
   "metadata": {},
   "outputs": [],
   "source": [
    "import math\n",
    "import matplotlib.pyplot as plt\n",
    "import numpy as np\n",
    "import pandas as pd\n",
    "from pylab import rcParams\n",
    "\n",
    "#reading file\n",
    "pd.set_option('display.max_columns', 999)\n",
    "movies = pd.read_csv(\"movies.csv\", header=0)\n",
    "movies = movies.replace({np.nan: None}) # replace NaN with None\n",
    "\n",
    "print(movies.head())\n",
    "\n",
    "ratings = pd.read_csv(\"ratings_small.csv\", header=0)\n",
    "print(ratings.head())\n",
    "\n",
    "links = pd.read_csv(\"links.csv\", header=0)\n",
    "print(links.head())\n",
    "\n",
    "#Total no. of movies\n",
    "print(len(movies))\n",
    "\n",
    "links.columns=[\"movieId\",\"imdb_id\",\"tmdbId\"]\n",
    "print(links.head())\n",
    "\n"
   ]
  }
 ],
 "metadata": {
  "kernelspec": {
   "display_name": "Python 3",
   "language": "python",
   "name": "python3"
  },
  "language_info": {
   "codemirror_mode": {
    "name": "ipython",
    "version": 3
   },
   "file_extension": ".py",
   "mimetype": "text/x-python",
   "name": "python",
   "nbconvert_exporter": "python",
   "pygments_lexer": "ipython3",
   "version": "3.7.6"
  }
 },
 "nbformat": 4,
 "nbformat_minor": 4
}
